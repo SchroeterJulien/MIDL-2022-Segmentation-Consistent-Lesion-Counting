{
 "cells": [
  {
   "cell_type": "markdown",
   "metadata": {},
   "source": [
    "## Segmentation-Consistent Probabilistic Lesion Counting \n"
   ]
  },
  {
   "cell_type": "markdown",
   "metadata": {},
   "source": [
    "Step-by-step **example** of the Poisson-binomial counting function proposed in our paper. <br /> \n",
    "(For illustration purposes we present a 2D slice, however the extension to 3D images is trivial)\n"
   ]
  },
  {
   "cell_type": "code",
   "execution_count": 1,
   "metadata": {},
   "outputs": [],
   "source": [
    "import numpy as np\n",
    "import torch\n",
    "from scipy import ndimage\n",
    "import matplotlib.pyplot as plt\n",
    "%matplotlib inline\n",
    "\n",
    "device = torch.device(\"cuda\" if torch.cuda.is_available() else \"cpu\")"
   ]
  },
  {
   "cell_type": "markdown",
   "metadata": {},
   "source": [
    "#### 0. Load Segmentation Output"
   ]
  },
  {
   "cell_type": "code",
   "execution_count": 2,
   "metadata": {},
   "outputs": [],
   "source": [
    "#Select a 2D slice (for illustration)\n",
    "segmentation_output = torch.from_numpy(np.load(\"example_data/sample286_seg_sig.npy\")[41,:,:]).to(device) "
   ]
  },
  {
   "cell_type": "code",
   "execution_count": 3,
   "metadata": {},
   "outputs": [
    {
     "data": {
      "text/plain": [
       "<matplotlib.colorbar.Colorbar at 0x24a7f78dd90>"
      ]
     },
     "execution_count": 3,
     "metadata": {},
     "output_type": "execute_result"
    },
    {
     "data": {
      "image/png": "[encoded data removed]",
      "text/plain": [
       "<Figure size 432x288 with 2 Axes>"
      ]
     },
     "metadata": {
      "needs_background": "light"
     },
     "output_type": "display_data"
    }
   ],
   "source": [
    "# Display Segmentation Ouput\n",
    "plt.figure()\n",
    "plt.imshow(segmentation_output>0.1,vmin=0,vmax=1,cmap='Blues')\n",
    "plt.colorbar()"
   ]
  },
  {
   "cell_type": "markdown",
   "metadata": {},
   "source": [
    "#### 1. Lesion Candidates Identification (Section 3.1.1)"
   ]
  },
  {
   "cell_type": "markdown",
   "metadata": {},
   "source": [
    "Connected Component "
   ]
  },
  {
   "cell_type": "code",
   "execution_count": 4,
   "metadata": {},
   "outputs": [],
   "source": [
    "cca_structure = ndimage.generate_binary_structure(2, 2)\n",
    "binarization_threshold=0.1\n",
    "\n",
    "# Making sure that no gradient is backpropagated through this step (See Figure 1)\n",
    "segmentation_output_nograd = segmentation_output.detach().clone()\n",
    "segmentation_output_nograd.requires_grad = False\n",
    "\n",
    "cc_output, cc_output_num_features \\\n",
    "    = ndimage.label(segmentation_output_nograd.detach().cpu().numpy()>binarization_threshold,structure=cca_structure)"
   ]
  },
  {
   "cell_type": "markdown",
   "metadata": {},
   "source": [
    "(Optional) Sized-based Component Filtering"
   ]
  },
  {
   "cell_type": "code",
   "execution_count": 5,
   "metadata": {},
   "outputs": [],
   "source": [
    "voxel_threshold = 0 #no filtering \n",
    "segment_idx, segment_count = np.unique(cc_output, return_counts=True)\n",
    "\n",
    "# Select Lesion with more than \"voxel_threshold\" voxels\n",
    "segment_idx = segment_idx[segment_count>voxel_threshold]\n",
    "count_sort_idx = np.argsort(-segment_count[segment_count>voxel_threshold])\n",
    "unique_segment_idx = segment_idx[segment_idx]"
   ]
  },
  {
   "cell_type": "markdown",
   "metadata": {},
   "source": [
    "Generate Mask for each Component "
   ]
  },
  {
   "cell_type": "code",
   "execution_count": 6,
   "metadata": {},
   "outputs": [],
   "source": [
    "cc_output = torch.from_numpy(cc_output).to(device)\n",
    "mask_list = []\n",
    "\n",
    "for seg_idx in unique_segment_idx:\n",
    "    # Ignore background\n",
    "    if seg_idx > 0:\n",
    "        with torch.no_grad():\n",
    "            mask_list.append((cc_output == seg_idx).double())\n",
    "            \n",
    "# Stack individual masks\n",
    "all_masks = torch.stack(mask_list)"
   ]
  },
  {
   "cell_type": "markdown",
   "metadata": {},
   "source": [
    "#### 2. Lesion Existence Probabilities (Section 3.1.2)"
   ]
  },
  {
   "cell_type": "code",
   "execution_count": 7,
   "metadata": {},
   "outputs": [],
   "source": [
    "lesion_existence_prob = torch.max(torch.max(all_masks * segmentation_output.unsqueeze(0), dim=1)[0],dim=1)[0] \n",
    "#all_max = torch.amax(all_masks * segmentation_output.unsqueeze(0), dim=(1,2)) #for newer torch versions"
   ]
  },
  {
   "cell_type": "code",
   "execution_count": 8,
   "metadata": {},
   "outputs": [
    {
     "name": "stdout",
     "output_type": "stream",
     "text": [
      "tensor([0.5189, 0.7840], dtype=torch.float64)\n"
     ]
    }
   ],
   "source": [
    "print(lesion_existence_prob)"
   ]
  },
  {
   "cell_type": "markdown",
   "metadata": {},
   "source": [
    "#### 3. Poisson-binomial Counting (Section 3.1.3)"
   ]
  },
  {
   "cell_type": "code",
   "execution_count": 9,
   "metadata": {},
   "outputs": [],
   "source": [
    "# https://github.com/SchroeterJulien/ACCV-2020-Subpixel-Point-Localization\n",
    "def Counting(pred, max_occurence=20):\n",
    "    contribution = torch.unbind(pred, 1)\n",
    "\n",
    "    count_prediction = torch.zeros(pred.size()[0], max_occurence, device=device)\n",
    "    count_prediction[:, 0] = 1  \n",
    "    for increment in contribution:\n",
    "        mass_movement = (count_prediction * increment.unsqueeze(1))[:, :max_occurence - 1]\n",
    "        move = - torch.cat([mass_movement, torch.zeros(count_prediction.size()[0], 1, device=device)], axis=1) \\\n",
    "               + torch.cat([torch.zeros(count_prediction.size()[0], 1, device=device), mass_movement], axis=1)\n",
    "\n",
    "        count_prediction = count_prediction + move\n",
    "\n",
    "    return count_prediction"
   ]
  },
  {
   "cell_type": "code",
   "execution_count": 10,
   "metadata": {},
   "outputs": [],
   "source": [
    "count_distribution = Counting(lesion_existence_prob.unsqueeze(0), max_occurence=5)[0] \n",
    "#max_occurence: extent of the count distribution"
   ]
  },
  {
   "cell_type": "code",
   "execution_count": 11,
   "metadata": {},
   "outputs": [
    {
     "data": {
      "text/plain": [
       "<BarContainer object of 5 artists>"
      ]
     },
     "execution_count": 11,
     "metadata": {},
     "output_type": "execute_result"
    },
    {
     "data": {
      "image/png": "[encoded data removed]",
      "text/plain": [
       "<Figure size 432x288 with 1 Axes>"
      ]
     },
     "metadata": {
      "needs_background": "light"
     },
     "output_type": "display_data"
    }
   ],
   "source": [
    "plt.figure()\n",
    "plt.bar(np.arange(0,5),count_distribution.detach().cpu().numpy())"
   ]
  },
  {
   "cell_type": "markdown",
   "metadata": {},
   "source": [
    "### Connected Component Benchmark"
   ]
  },
  {
   "cell_type": "markdown",
   "metadata": {},
   "source": [
    "Same as the beginning of our step 1, except with a higher binarization threshold (see Appendix C.1)"
   ]
  },
  {
   "cell_type": "code",
   "execution_count": 12,
   "metadata": {},
   "outputs": [],
   "source": [
    "def cc_count(segmentation_output, binarization_threshold=0.5):\n",
    "    cca_structure = ndimage.generate_binary_structure(2, 2)\n",
    "\n",
    "    # Making sure that no gradient is backpropagated through this step (See Figure 1)\n",
    "    segmentation_output_nograd = segmentation_output.detach().clone()\n",
    "    segmentation_output_nograd.requires_grad = False\n",
    "\n",
    "    cc_output, cc_output_num_features \\\n",
    "      = ndimage.label(segmentation_output_nograd.detach().cpu().numpy()>binarization_threshold,structure=cca_structure)\n",
    "    \n",
    "    return cc_output_num_features"
   ]
  },
  {
   "cell_type": "code",
   "execution_count": 13,
   "metadata": {},
   "outputs": [
    {
     "name": "stdout",
     "output_type": "stream",
     "text": [
      "CC-prediction (0.5): 2\n"
     ]
    }
   ],
   "source": [
    "print(\"CC-prediction (0.5):\", cc_count(segmentation_output, binarization_threshold=0.5))"
   ]
  },
  {
   "cell_type": "code",
   "execution_count": 14,
   "metadata": {},
   "outputs": [
    {
     "name": "stdout",
     "output_type": "stream",
     "text": [
      "CC-prediction (0.6): 1\n"
     ]
    }
   ],
   "source": [
    "print(\"CC-prediction (0.6):\", cc_count(segmentation_output, binarization_threshold=0.6))"
   ]
  },
  {
   "cell_type": "markdown",
   "metadata": {},
   "source": [
    "### Loss Function"
   ]
  },
  {
   "cell_type": "code",
   "execution_count": 15,
   "metadata": {},
   "outputs": [],
   "source": [
    "import torch.nn.functional as F\n",
    "\n",
    "def loss_function(count_distribution, label): \n",
    "    label_oh =  F.one_hot(torch.from_numpy(np.array([label])).to(torch.int64), num_classes=5)\n",
    "    return -torch.sum(label_oh * torch.log(count_distribution * label_oh + 1e-12))"
   ]
  },
  {
   "cell_type": "code",
   "execution_count": 16,
   "metadata": {},
   "outputs": [
    {
     "data": {
      "text/plain": [
       "tensor(0.7149, dtype=torch.float64)"
      ]
     },
     "execution_count": 16,
     "metadata": {},
     "output_type": "execute_result"
    }
   ],
   "source": [
    "loss_function(count_distribution,1)"
   ]
  },
  {
   "cell_type": "code",
   "execution_count": 17,
   "metadata": {},
   "outputs": [
    {
     "data": {
      "text/plain": [
       "tensor(0.8994, dtype=torch.float64)"
      ]
     },
     "execution_count": 17,
     "metadata": {},
     "output_type": "execute_result"
    }
   ],
   "source": [
    "loss_function(count_distribution,2)"
   ]
  },
  {
   "cell_type": "markdown",
   "metadata": {},
   "source": [
    "### 3D Example"
   ]
  },
  {
   "cell_type": "code",
   "execution_count": 18,
   "metadata": {},
   "outputs": [],
   "source": [
    "from count_function import CountFunction"
   ]
  },
  {
   "cell_type": "code",
   "execution_count": 19,
   "metadata": {},
   "outputs": [],
   "source": [
    "segmentation_output = torch.from_numpy(np.load(\"example_data/sample286_seg_sig.npy\")).to(device) "
   ]
  },
  {
   "cell_type": "code",
   "execution_count": 20,
   "metadata": {},
   "outputs": [],
   "source": [
    "count_distribution, _ = CountFunction(segmentation_output.unsqueeze(0))"
   ]
  },
  {
   "cell_type": "code",
   "execution_count": 21,
   "metadata": {},
   "outputs": [
    {
     "data": {
      "text/plain": [
       "<BarContainer object of 5 artists>"
      ]
     },
     "execution_count": 21,
     "metadata": {},
     "output_type": "execute_result"
    },
    {
     "data": {
      "image/png": "[encoded data removed]",
      "text/plain": [
       "<Figure size 432x288 with 1 Axes>"
      ]
     },
     "metadata": {
      "needs_background": "light"
     },
     "output_type": "display_data"
    }
   ],
   "source": [
    "plt.figure()\n",
    "plt.bar(np.arange(0,5),count_distribution[0].detach().cpu().numpy())"
   ]
  },
  {
   "cell_type": "markdown",
   "metadata": {},
   "source": [
    "#### 3D function applied on the 2D example"
   ]
  },
  {
   "cell_type": "code",
   "execution_count": 22,
   "metadata": {},
   "outputs": [],
   "source": [
    "segmentation_output = torch.from_numpy(np.load(\"example_data/sample286_seg_sig.npy\")[41,:,:]).to(device) \n",
    "count_distribution, _ = CountFunction(segmentation_output.unsqueeze(0).unsqueeze(3))"
   ]
  },
  {
   "cell_type": "code",
   "execution_count": 23,
   "metadata": {},
   "outputs": [
    {
     "data": {
      "text/plain": [
       "tensor([[0.1039, 0.4892, 0.4068, 0.0000, 0.0000]])"
      ]
     },
     "execution_count": 23,
     "metadata": {},
     "output_type": "execute_result"
    }
   ],
   "source": [
    "count_distribution"
   ]
  }
 ],
 "metadata": {
  "kernelspec": {
   "display_name": "Python 3 (ipykernel)",
   "language": "python",
   "name": "python3"
  },
  "language_info": {
   "codemirror_mode": {
    "name": "ipython",
    "version": 3
   },
   "file_extension": ".py",
   "mimetype": "text/x-python",
   "name": "python",
   "nbconvert_exporter": "python",
   "pygments_lexer": "ipython3",
   "version": "3.8.12"
  },
  "pycharm": {
   "stem_cell": {
    "cell_type": "raw",
    "metadata": {
     "collapsed": false
    },
    "source": [
     "Notebook title"
    ]
   }
  }
 },
 "nbformat": 4,
 "nbformat_minor": 1
}
